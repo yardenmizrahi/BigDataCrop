{
 "cells": [
  {
   "cell_type": "markdown",
   "metadata": {},
   "source": [
    "# Big Data Project - Kafka Side\n",
    "### Authors: \n",
    "Nadav Oren 316084599\n",
    "\n",
    "Yarden Mizrahi 209521293\n",
    "\n",
    "Michaella Ichak 209085422"
   ]
  },
  {
   "cell_type": "markdown",
   "metadata": {},
   "source": [
    "## Imports"
   ]
  },
  {
   "cell_type": "code",
   "execution_count": 1,
   "metadata": {},
   "outputs": [],
   "source": [
    "from confluent_kafka import Producer, Consumer\n",
    "import time\n",
    "import pandas as pd"
   ]
  },
  {
   "cell_type": "markdown",
   "metadata": {},
   "source": [
    "## Const Values"
   ]
  },
  {
   "cell_type": "code",
   "execution_count": 2,
   "metadata": {},
   "outputs": [],
   "source": [
    "TOPIC = 'crop_data'\n",
    "FILE = \"Crop_recommendation.csv\"\n",
    "BATCH_SIZE = 20"
   ]
  },
  {
   "cell_type": "markdown",
   "metadata": {},
   "source": [
    "## Set Producer"
   ]
  },
  {
   "cell_type": "code",
   "execution_count": 4,
   "metadata": {
    "id": "fjgFoCzVwZLM"
   },
   "outputs": [
    {
     "data": {
      "text/plain": [
       "0"
      ]
     },
     "execution_count": 4,
     "metadata": {},
     "output_type": "execute_result"
    }
   ],
   "source": [
    "\n",
    "p = Producer({'bootstrap.servers': 'localhost:9092'})\n",
    "\n",
    "df = pd.read_csv(FILE)\n",
    "\n",
    "batches = [df[i:i+BATCH_SIZE] for i in range(0,len(df),BATCH_SIZE)]\n",
    "\n",
    "for batch in batches:\n",
    "    # Convert batch to JSON string\n",
    "    batch_json = batch.to_json(orient='records')\n",
    "    # Send batch to Kafka\n",
    "    p.produce(TOPIC, key=str(batch.index[0]), value=batch_json)\n",
    "    time.sleep(1)\n",
    "    # Wait for all messages in the producer queue to be delivered\n",
    "    p.flush()\n",
    "\n",
    "p.flush()\n",
    "\n",
    "\n"
   ]
  },
  {
   "cell_type": "code",
   "execution_count": 15,
   "metadata": {},
   "outputs": [
    {
     "data": {
      "text/plain": [
       "0"
      ]
     },
     "execution_count": 15,
     "metadata": {},
     "output_type": "execute_result"
    }
   ],
   "source": [
    "p.flush()"
   ]
  },
  {
   "cell_type": "code",
   "execution_count": null,
   "metadata": {},
   "outputs": [],
   "source": []
  }
 ],
 "metadata": {
  "colab": {
   "provenance": []
  },
  "kernelspec": {
   "display_name": "Python 3 (ipykernel)",
   "language": "python",
   "name": "python3"
  },
  "language_info": {
   "codemirror_mode": {
    "name": "ipython",
    "version": 3
   },
   "file_extension": ".py",
   "mimetype": "text/x-python",
   "name": "python",
   "nbconvert_exporter": "python",
   "pygments_lexer": "ipython3",
   "version": "3.9.12"
  }
 },
 "nbformat": 4,
 "nbformat_minor": 1
}
